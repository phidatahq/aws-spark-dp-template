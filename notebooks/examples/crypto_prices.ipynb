{
 "cells": [
  {
   "cell_type": "code",
   "execution_count": null,
   "id": "ba73193b-a3c9-4c73-87f5-b2faeeb55f13",
   "metadata": {
    "tags": []
   },
   "outputs": [],
   "source": [
    "import pyarrow as pa\n",
    "from phidata.utils.print_table import print_table"
   ]
  },
  {
   "cell_type": "code",
   "execution_count": null,
   "id": "07135c8b-9123-4928-b5f1-690dcb4f38fe",
   "metadata": {
    "tags": []
   },
   "outputs": [],
   "source": [
    "from workflows.crypto.prices import crypto_prices_local\n",
    "\n",
    "table: pa.Table = crypto_prices_local.read_table()\n",
    "print_table(title=\"Crypto Prices\", header=table.column_names, rows=table.to_pylist())"
   ]
  },
  {
   "cell_type": "code",
   "execution_count": null,
   "id": "d328379e-e141-4efb-9300-e240c93b06f5",
   "metadata": {
    "tags": []
   },
   "outputs": [],
   "source": [
    "# Use polars to analyze data\n",
    "import polars as pl\n",
    "\n",
    "df: pl.DataFrame = pl.DataFrame(table)\n",
    "df"
   ]
  },
  {
   "cell_type": "code",
   "execution_count": null,
   "id": "e80c30be-49d0-4726-95d8-6bf0e19043f7",
   "metadata": {},
   "outputs": [],
   "source": [
    "# Use pandas to analyze data\n",
    "import pandas as pd\n",
    "\n",
    "pd_df: pd.DataFrame = pl.DataFrame(table)\n",
    "pd_df"
   ]
  }
 ],
 "metadata": {
  "kernelspec": {
   "display_name": "Python 3 (ipykernel)",
   "language": "python",
   "name": "python3"
  },
  "language_info": {
   "codemirror_mode": {
    "name": "ipython",
    "version": 3
   },
   "file_extension": ".py",
   "mimetype": "text/x-python",
   "name": "python",
   "nbconvert_exporter": "python",
   "pygments_lexer": "ipython3",
   "version": "3.9.15"
  },
  "vscode": {
   "interpreter": {
    "hash": "d84be87103ff62aa725dffceeec80813b1d27b25edfe33e3fea4e70e2beafa13"
   }
  }
 },
 "nbformat": 4,
 "nbformat_minor": 5
}
