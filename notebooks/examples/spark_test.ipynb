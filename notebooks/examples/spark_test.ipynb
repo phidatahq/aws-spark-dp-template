{
 "cells": [
  {
   "cell_type": "markdown",
   "id": "e1864cc6-8fc4-439c-bf13-d90cabed599c",
   "metadata": {},
   "source": [
    "## Example Spark Notebook"
   ]
  },
  {
   "cell_type": "code",
   "execution_count": null,
   "id": "949016db-af9a-4b11-86d7-8afc68384aaf",
   "metadata": {},
   "outputs": [],
   "source": [
    "from pyspark.sql import SparkSession\n",
    "\n",
    "# Create SparkSession \n",
    "spark = SparkSession.builder.getOrCreate()"
   ]
  },
  {
   "cell_type": "code",
   "execution_count": null,
   "id": "6b4dd8c5-9f4b-48c0-acfa-7b499377250f",
   "metadata": {},
   "outputs": [],
   "source": [
    "# Connect spark to dev_spark_driver\n",
    "# from workspace.dev.spark import dev_spark_driver\n",
    "\n",
    "# print(f\"Using spark cluster: {dev_spark_driver.driver_url}\")\n",
    "# spark = SparkSession.builder.master(dev_spark_driver.driver_url).getOrCreate()"
   ]
  },
  {
   "cell_type": "code",
   "execution_count": null,
   "id": "7b60c4db-5ce8-462e-b241-d0dbd2612f02",
   "metadata": {},
   "outputs": [],
   "source": [
    "from datetime import datetime, date\n",
    "import pandas as pd\n",
    "from pyspark.sql import Row\n",
    "\n",
    "# Create a PySpark DataFrame from a list of rows\n",
    "df = spark.createDataFrame([\n",
    "    Row(a=1, b=2., c='string1', d=date(2000, 1, 1), e=datetime(2000, 1, 1, 12, 0)),\n",
    "    Row(a=2, b=3., c='string2', d=date(2000, 2, 1), e=datetime(2000, 1, 2, 12, 0)),\n",
    "    Row(a=4, b=5., c='string3', d=date(2000, 3, 1), e=datetime(2000, 1, 3, 12, 0))\n",
    "])\n",
    "df"
   ]
  },
  {
   "cell_type": "code",
   "execution_count": null,
   "id": "1ebca8fe-11db-44c3-bdb8-16024e0bb9b2",
   "metadata": {},
   "outputs": [],
   "source": [
    "# Create a PySpark DataFrame with an explicit schema.\n",
    "df = spark.createDataFrame([\n",
    "    (1, 2., 'string1', date(2000, 1, 1), datetime(2000, 1, 1, 12, 0)),\n",
    "    (2, 3., 'string2', date(2000, 2, 1), datetime(2000, 1, 2, 12, 0)),\n",
    "    (3, 4., 'string3', date(2000, 3, 1), datetime(2000, 1, 3, 12, 0))\n",
    "], schema='a long, b double, c string, d date, e timestamp')\n",
    "df"
   ]
  },
  {
   "cell_type": "code",
   "execution_count": null,
   "id": "80738aa9-2fef-4d04-9f81-da7d7bf70509",
   "metadata": {},
   "outputs": [],
   "source": [
    "# Create a PySpark DataFrame from a pandas DataFrame\n",
    "pandas_df = pd.DataFrame({\n",
    "    'a': [1, 2, 3],\n",
    "    'b': [2., 3., 4.],\n",
    "    'c': ['string1', 'string2', 'string3'],\n",
    "    'd': [date(2000, 1, 1), date(2000, 2, 1), date(2000, 3, 1)],\n",
    "    'e': [datetime(2000, 1, 1, 12, 0), datetime(2000, 1, 2, 12, 0), datetime(2000, 1, 3, 12, 0)]\n",
    "})\n",
    "df = spark.createDataFrame(pandas_df)\n",
    "df"
   ]
  },
  {
   "cell_type": "code",
   "execution_count": null,
   "id": "ebac6701-4a8d-4c62-b43a-67589d82b702",
   "metadata": {},
   "outputs": [],
   "source": [
    "# Create a PySpark DataFrame from an RDD consisting of a list of tuples.\n",
    "rdd = spark.sparkContext.parallelize([\n",
    "    (1, 2., 'string1', date(2000, 1, 1), datetime(2000, 1, 1, 12, 0)),\n",
    "    (2, 3., 'string2', date(2000, 2, 1), datetime(2000, 1, 2, 12, 0)),\n",
    "    (3, 4., 'string3', date(2000, 3, 1), datetime(2000, 1, 3, 12, 0))\n",
    "])\n",
    "df = spark.createDataFrame(rdd, schema=['a', 'b', 'c', 'd', 'e'])\n",
    "df"
   ]
  },
  {
   "cell_type": "code",
   "execution_count": null,
   "id": "97425609-376b-4cf9-b698-380e34ce7b2f",
   "metadata": {},
   "outputs": [],
   "source": [
    "# Show DataFrame and Schema\n",
    "df.show()\n",
    "df.printSchema()"
   ]
  },
  {
   "cell_type": "code",
   "execution_count": null,
   "id": "5c7e919e-0c6d-4bd9-9a32-683a1c52ea02",
   "metadata": {},
   "outputs": [],
   "source": [
    "# Show top row\n",
    "df.show(1)"
   ]
  }
 ],
 "metadata": {
  "kernelspec": {
   "display_name": "Python 3 (ipykernel)",
   "language": "python",
   "name": "python3"
  },
  "language_info": {
   "codemirror_mode": {
    "name": "ipython",
    "version": 3
   },
   "file_extension": ".py",
   "mimetype": "text/x-python",
   "name": "python",
   "nbconvert_exporter": "python",
   "pygments_lexer": "ipython3",
   "version": "3.9.15"
  }
 },
 "nbformat": 4,
 "nbformat_minor": 5
}
